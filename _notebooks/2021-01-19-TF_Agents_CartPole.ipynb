{
 "cells": [
  {
   "cell_type": "markdown",
   "metadata": {
    "id": "klGNgWREsvQv"
   },
   "source": [
    "# TF-Agents-CartPole\n",
    "\n",
    "> \"Reinforcement Learning (RL) to control the balancing of a pole on a moving cart.\"\n",
    "- toc: true\n",
    "- branch: master\n",
    "- badges: false\n",
    "- comments: true\n",
    "- hide: false\n",
    "- search_exclude: true\n",
    "- metadata_key1: metadata_value1\n",
    "- metadata_key2: metadata_value2\n",
    "- image: images/graphical_representation_of_rl.png\n",
    "- categories: [Control,   RL,   TensorFlow,TF-Agents,Python]\n",
    "- show_tags: true"
   ]
  },
  {
   "cell_type": "code",
   "execution_count": 2,
   "metadata": {
    "colab": {
     "base_uri": "https://localhost:8080/"
    },
    "id": "4E8ujfcND6pJ",
    "outputId": "a8da74d2-621c-43dd-ced7-971cb31d5901"
   },
   "outputs": [
    {
     "name": "stdout",
     "output_type": "stream",
     "text": [
      "Mounted at /content/gdrive\n"
     ]
    }
   ],
   "source": [
    "#hide\n",
    "# from google.colab import drive\n",
    "# drive.mount('/content/gdrive', force_remount=True)\n",
    "# root_dir = \"/content/gdrive/My Drive/\"\n",
    "# base_dir = root_dir + 'RL/TF-Agents/blog_posts/TF-Agents-CartPole/'\n",
    "# # base_dir = \"\""
   ]
  },
  {
   "cell_type": "markdown",
   "metadata": {
    "id": "lsaQlK8fFQqH"
   },
   "source": [
    "## 1. Introduction\n",
    "\n",
    "The cart-pole problem can be considered as the \"Hello World\" problem of Reinforcement Learning (RL). It was described by [Barto (1983)](http://www.derongliu.org/adp/adp-cdrom/Barto1983.pdf). The physics of the system is as follows:\n",
    "\n",
    "* All motion happens in a vertical plane\n",
    "* A hinged pole is attached to a cart\n",
    "* The cart slides horizontally on a track in an effort to balance the pole vertically\n",
    "* The system has four state variables:\n",
    "\n",
    "$x$: displacement of the cart\n",
    "\n",
    "$\\theta$: vertical angle on the pole\n",
    "\n",
    "$\\dot{x}$: velocity of the cart\n",
    "\n",
    "$\\dot{\\theta}$: angular velocity of the pole\n"
   ]
  },
  {
   "cell_type": "markdown",
   "metadata": {
    "id": "cKOCZlhUgXVK"
   },
   "source": [
    "Here is a graphical representation of the system:\n",
    "\n",
    "![Cartpole environment](https://raw.githubusercontent.com/tensorflow/agents/master/docs/tutorials/images/cartpole.png)"
   ]
  },
  {
   "cell_type": "markdown",
   "metadata": {
    "id": "S0-ZNxUXoMR6"
   },
   "source": [
    "## 2. Purpose\n",
    "\n",
    "The purpose of our activity in this blog post is to construct and train an entity, let's call it a *controller*, that can manage the horizontal motions of the cart so that the pole remains as close to vertical as possible. The controlled entity is, of course, the *cart and pole* system."
   ]
  },
  {
   "cell_type": "markdown",
   "metadata": {
    "id": "1u9QVVsShC9X"
   },
   "source": [
    "## 3. TF-Agents Setup\n",
    "\n",
    "We will use the Tensorflow TF-Agents framework. In addition, this notebook will need to run in Google Colab."
   ]
  },
  {
   "cell_type": "code",
   "execution_count": 3,
   "metadata": {
    "colab": {
     "base_uri": "https://localhost:8080/"
    },
    "id": "KEHR2Ui-lo8O",
    "outputId": "3f72ecfb-fd77-480b-98c3-fed33a6a6818"
   },
   "outputs": [
    {
     "name": "stdout",
     "output_type": "stream",
     "text": [
      "Reading package lists... Done\n",
      "Building dependency tree       \n",
      "Reading state information... Done\n",
      "ffmpeg is already the newest version (7:3.4.8-0ubuntu0.2).\n",
      "xvfb is already the newest version (2:1.19.6-1ubuntu4.8).\n",
      "0 upgraded, 0 newly installed, 0 to remove and 16 not upgraded.\n",
      "Requirement already satisfied: imageio==2.4.0 in /usr/local/lib/python3.6/dist-packages (2.4.0)\n",
      "Requirement already satisfied: pillow in /usr/local/lib/python3.6/dist-packages (from imageio==2.4.0) (7.0.0)\n",
      "Requirement already satisfied: numpy in /usr/local/lib/python3.6/dist-packages (from imageio==2.4.0) (1.19.5)\n",
      "Requirement already satisfied: pyvirtualdisplay in /usr/local/lib/python3.6/dist-packages (2.0)\n",
      "Requirement already satisfied: EasyProcess in /usr/local/lib/python3.6/dist-packages (from pyvirtualdisplay) (0.3)\n",
      "Requirement already satisfied: tf-agents in /usr/local/lib/python3.6/dist-packages (0.7.1)\n",
      "Requirement already satisfied: gym>=0.17.0 in /usr/local/lib/python3.6/dist-packages (from tf-agents) (0.17.3)\n",
      "Requirement already satisfied: pillow>=7.0.0 in /usr/local/lib/python3.6/dist-packages (from tf-agents) (7.0.0)\n",
      "Requirement already satisfied: typing-extensions>=3.7.4.3 in /usr/local/lib/python3.6/dist-packages (from tf-agents) (3.7.4.3)\n",
      "Requirement already satisfied: cloudpickle>=1.3 in /usr/local/lib/python3.6/dist-packages (from tf-agents) (1.3.0)\n",
      "Requirement already satisfied: wrapt>=1.11.1 in /usr/local/lib/python3.6/dist-packages (from tf-agents) (1.12.1)\n",
      "Requirement already satisfied: protobuf>=3.11.3 in /usr/local/lib/python3.6/dist-packages (from tf-agents) (3.12.4)\n",
      "Requirement already satisfied: numpy>=1.13.3 in /usr/local/lib/python3.6/dist-packages (from tf-agents) (1.19.5)\n",
      "Requirement already satisfied: tensorflow-probability>=0.12.1 in /usr/local/lib/python3.6/dist-packages (from tf-agents) (0.12.1)\n",
      "Requirement already satisfied: gin-config>=0.4.0 in /usr/local/lib/python3.6/dist-packages (from tf-agents) (0.4.0)\n",
      "Requirement already satisfied: absl-py>=0.6.1 in /usr/local/lib/python3.6/dist-packages (from tf-agents) (0.10.0)\n",
      "Requirement already satisfied: six>=1.10.0 in /usr/local/lib/python3.6/dist-packages (from tf-agents) (1.15.0)\n",
      "Requirement already satisfied: scipy in /usr/local/lib/python3.6/dist-packages (from gym>=0.17.0->tf-agents) (1.4.1)\n",
      "Requirement already satisfied: pyglet<=1.5.0,>=1.4.0 in /usr/local/lib/python3.6/dist-packages (from gym>=0.17.0->tf-agents) (1.5.0)\n",
      "Requirement already satisfied: setuptools in /usr/local/lib/python3.6/dist-packages (from protobuf>=3.11.3->tf-agents) (51.1.1)\n",
      "Requirement already satisfied: decorator in /usr/local/lib/python3.6/dist-packages (from tensorflow-probability>=0.12.1->tf-agents) (4.4.2)\n",
      "Requirement already satisfied: dm-tree in /usr/local/lib/python3.6/dist-packages (from tensorflow-probability>=0.12.1->tf-agents) (0.1.5)\n",
      "Requirement already satisfied: gast>=0.3.2 in /usr/local/lib/python3.6/dist-packages (from tensorflow-probability>=0.12.1->tf-agents) (0.3.3)\n",
      "Requirement already satisfied: future in /usr/local/lib/python3.6/dist-packages (from pyglet<=1.5.0,>=1.4.0->gym>=0.17.0->tf-agents) (0.16.0)\n"
     ]
    }
   ],
   "source": [
    "!sudo apt-get install -y xvfb ffmpeg\n",
    "!pip install 'imageio==2.4.0'\n",
    "!pip install pyvirtualdisplay\n",
    "!pip install tf-agents"
   ]
  },
  {
   "cell_type": "code",
   "execution_count": 4,
   "metadata": {
    "id": "sMitx5qSgJk1"
   },
   "outputs": [],
   "source": [
    "from __future__ import absolute_import, division, print_function\n",
    "import base64\n",
    "import imageio\n",
    "import IPython\n",
    "import matplotlib\n",
    "import matplotlib.pyplot as plt\n",
    "import numpy as np\n",
    "import PIL.Image\n",
    "import pyvirtualdisplay\n",
    "import tensorflow as tf\n",
    "from tf_agents.agents.dqn import dqn_agent\n",
    "from tf_agents.drivers import dynamic_step_driver\n",
    "from tf_agents.environments import suite_gym\n",
    "from tf_agents.environments import tf_py_environment\n",
    "from tf_agents.eval import metric_utils\n",
    "from tf_agents.metrics import tf_metrics\n",
    "from tf_agents.networks import q_network\n",
    "from tf_agents.policies import random_tf_policy\n",
    "from tf_agents.replay_buffers import tf_uniform_replay_buffer\n",
    "from tf_agents.trajectories import trajectory\n",
    "from tf_agents.utils import common"
   ]
  },
  {
   "cell_type": "code",
   "execution_count": 5,
   "metadata": {
    "colab": {
     "base_uri": "https://localhost:8080/",
     "height": 35
    },
    "id": "1K7_uLc_nrCs",
    "outputId": "5c9b43e3-538c-4e5e-c479-64d586bc7801"
   },
   "outputs": [
    {
     "data": {
      "application/vnd.google.colaboratory.intrinsic+json": {
       "type": "string"
      },
      "text/plain": [
       "'2.4.0'"
      ]
     },
     "execution_count": 5,
     "metadata": {
      "tags": []
     },
     "output_type": "execute_result"
    }
   ],
   "source": [
    "tf.version.VERSION"
   ]
  },
  {
   "cell_type": "markdown",
   "metadata": {
    "id": "Cm53yvG3naxc"
   },
   "source": [
    "The following is needed for rendering a virtual display:"
   ]
  },
  {
   "cell_type": "code",
   "execution_count": 6,
   "metadata": {
    "id": "J6HsdS5GbSjd"
   },
   "outputs": [],
   "source": [
    "tf.compat.v1.enable_v2_behavior()\n",
    "display = pyvirtualdisplay.Display(visible=0, size=(1400, 900)).start()"
   ]
  },
  {
   "cell_type": "code",
   "execution_count": 7,
   "metadata": {
    "id": "2WiLAoSwA_KI"
   },
   "outputs": [],
   "source": [
    "# ![Figure 1 Graphical Representation](../images/graphical_representation_of_rl.png)\n",
    "# ![Figure 1 Graphical Representation](/content/gdrive/My Drive/RL/TF-Agents/blog_posts/TF-Agents-CartPole/graphical_representation_of_rl.png)\n"
   ]
  },
  {
   "cell_type": "code",
   "execution_count": 8,
   "metadata": {
    "colab": {
     "base_uri": "https://localhost:8080/",
     "height": 35
    },
    "id": "FGSsxkOkEkxF",
    "outputId": "feb1af4d-c388-4fa8-9b9d-fcc28f594ed0"
   },
   "outputs": [
    {
     "data": {
      "application/vnd.google.colaboratory.intrinsic+json": {
       "type": "string"
      },
      "text/plain": [
       "'/content/gdrive/My Drive/RL/TF-Agents/blog_posts/TF-Agents-CartPole/'"
      ]
     },
     "execution_count": 8,
     "metadata": {
      "tags": []
     },
     "output_type": "execute_result"
    }
   ],
   "source": [
    "base_dir"
   ]
  },
  {
   "cell_type": "markdown",
   "metadata": {
    "id": "y1s77CKrv1m_"
   },
   "source": [
    "## 4. Hyperparameters\n",
    "Here we specify all the hyperparameters for the problem:"
   ]
  },
  {
   "cell_type": "code",
   "execution_count": 9,
   "metadata": {
    "id": "psVAtI4Vv4zL"
   },
   "outputs": [],
   "source": [
    "NUM_ITERATIONS = 20000\n",
    "\n",
    "INITIAL_COLLECT_STEPS = 100\n",
    "COLLECT_STEPS_PER_ITERATION = 1\n",
    "REPLAY_BUFFER_MAX_LENGTH = 100000\n",
    "\n",
    "BATCH_SIZE = 64\n",
    "LEARNING_RATE = 1e-3\n",
    "LOG_INTERVAL = 200\n",
    "\n",
    "NUM_EVAL_EPISODES = 10\n",
    "EVAL_INTERVAL = 1000"
   ]
  },
  {
   "cell_type": "markdown",
   "metadata": {
    "id": "w913YTn-4pOU"
   },
   "source": [
    "## 5. Graphical Representation of the Problem\n",
    "\n",
    "We will work with a graphical representation of our cart-and-pole problem, rather than to just ramble on with words. This will enhance the description. The graphic will also include some TF-Agents specifics. Here is the representation:\n",
    "\n",
    "![Figure 1 Graphical Representation](./graphical_representation_of_rl.png)"
   ]
  },
  {
   "cell_type": "code",
   "execution_count": 10,
   "metadata": {
    "id": "KRG0AYE6Ocgy"
   },
   "outputs": [],
   "source": [
    "# import Image\n",
    "im = PIL.Image.open(base_dir+'graphical_representation_of_rl.png')"
   ]
  },
  {
   "cell_type": "markdown",
   "metadata": {
    "id": "VMsJC3DEgI0x"
   },
   "source": [
    "## 6. Environment\n",
    "\n",
    "Let's start with the controller. In Reinforcement Learning, the controlled entity is known as an **environment**. The TF-Agents framework contain some ready to use environments that can be created in TF-Agents using the `tf_agents.environments` suites. Fortunately, it makes access to the cart-and-pole environment (setup by OpenAI Gym) easy. Next, we load the cart-and-pole environment from the OpenAI Gym suite. "
   ]
  },
  {
   "cell_type": "code",
   "execution_count": 11,
   "metadata": {
    "id": "pYEz-S9gEv2-"
   },
   "outputs": [],
   "source": [
    "env_name = 'CartPole-v0'\n",
    "env = suite_gym.load(env_name)"
   ]
  },
  {
   "cell_type": "markdown",
   "metadata": {
    "id": "IIHYVBkuvPNw"
   },
   "source": [
    "You can render this environment to see how it looks. A free-swinging pole is attached to a cart.  The goal is to move the cart right or left in order to keep the pole pointing up. To verify, we can inspect our loaded environment with:"
   ]
  },
  {
   "cell_type": "code",
   "execution_count": 12,
   "metadata": {
    "colab": {
     "base_uri": "https://localhost:8080/",
     "height": 417
    },
    "id": "RlO7WIQHu_7D",
    "outputId": "2c05e5f1-b899-4cca-899e-96e27d5d7ced"
   },
   "outputs": [
    {
     "data": {
      "image/png": "[encoded data removed]",
      "text/plain": [
       "<PIL.Image.Image image mode=RGB size=600x400 at 0x7F1CE3E45128>"
      ]
     },
     "execution_count": 12,
     "metadata": {
      "tags": []
     },
     "output_type": "execute_result"
    }
   ],
   "source": [
    "env.reset()\n",
    "PIL.Image.fromarray(env.render())"
   ]
  },
  {
   "cell_type": "markdown",
   "metadata": {
    "id": "NSmAGfjnRzUE"
   },
   "source": [
    "### Input to Environment\n",
    "\n",
    "The specification of inputs to the environment is provided by the `env.action_spec` method:"
   ]
  },
  {
   "cell_type": "code",
   "execution_count": 13,
   "metadata": {
    "colab": {
     "base_uri": "https://localhost:8080/"
    },
    "id": "xBBaR-jTSJ3B",
    "outputId": "b3e5bc83-62ce-4872-9fe1-45345af85eeb"
   },
   "outputs": [
    {
     "data": {
      "text/plain": [
       "BoundedArraySpec(shape=(), dtype=dtype('int64'), name='action', minimum=0, maximum=1)"
      ]
     },
     "execution_count": 13,
     "metadata": {
      "tags": []
     },
     "output_type": "execute_result"
    }
   ],
   "source": [
    "env.action_spec()"
   ]
  },
  {
   "cell_type": "markdown",
   "metadata": {
    "id": "wsQ8Qb5gSXSP"
   },
   "source": [
    "`shape` specifies the structure of the input which is a scalar in this case. `dtype` is the data type which is an `int64`. The `minimum` value of the action is `0` and the `maximum` is `1`. We will use the convention that the `action` on the cart is as follows:\n",
    "\n",
    "* `0` means LEFT\n",
    "* `1` means RIGHT"
   ]
  },
  {
   "cell_type": "markdown",
   "metadata": {
    "id": "r_fatIpdUMMg"
   },
   "source": [
    "### Evolution of the Environment\n",
    "\n",
    "The arrival of an `action` at the input of the environment leads to the update of its state. This is how the environment evolves. To advance the state of the environment, the `environment.step` method takes an input `action` and returns a `TimeStep` tuple containing the next observation of the environment and the reward for the action.\n",
    "\n"
   ]
  },
  {
   "cell_type": "markdown",
   "metadata": {
    "id": "4MoIFnVtVJuA"
   },
   "source": [
    "### Output from Environment\n",
    "\n",
    "The specification of output from the environment is provided by the `env.time_step_spec` method:"
   ]
  },
  {
   "cell_type": "code",
   "execution_count": 14,
   "metadata": {
    "colab": {
     "base_uri": "https://localhost:8080/"
    },
    "id": "YxRXy0PPSJzL",
    "outputId": "4481372e-df1d-45ba-cd56-6409be17dddd"
   },
   "outputs": [
    {
     "data": {
      "text/plain": [
       "TimeStep(step_type=ArraySpec(shape=(), dtype=dtype('int32'), name='step_type'), reward=ArraySpec(shape=(), dtype=dtype('float32'), name='reward'), discount=BoundedArraySpec(shape=(), dtype=dtype('float32'), name='discount', minimum=0.0, maximum=1.0), observation=BoundedArraySpec(shape=(4,), dtype=dtype('float32'), name='observation', minimum=[-4.8000002e+00 -3.4028235e+38 -4.1887903e-01 -3.4028235e+38], maximum=[4.8000002e+00 3.4028235e+38 4.1887903e-01 3.4028235e+38]))"
      ]
     },
     "execution_count": 14,
     "metadata": {
      "tags": []
     },
     "output_type": "execute_result"
    }
   ],
   "source": [
    "env.time_step_spec()"
   ]
  },
  {
   "cell_type": "markdown",
   "metadata": {
    "id": "gtWKdiFKVouy"
   },
   "source": [
    "This specification has the following fields:"
   ]
  },
  {
   "cell_type": "code",
   "execution_count": 15,
   "metadata": {
    "colab": {
     "base_uri": "https://localhost:8080/"
    },
    "id": "LyEA8FFHSJvj",
    "outputId": "988e4742-8176-4bab-e05c-bdda07368ad8"
   },
   "outputs": [
    {
     "data": {
      "text/plain": [
       "('step_type', 'reward', 'discount', 'observation')"
      ]
     },
     "execution_count": 15,
     "metadata": {
      "tags": []
     },
     "output_type": "execute_result"
    }
   ],
   "source": [
    "env.time_step_spec()._fields"
   ]
  },
  {
   "cell_type": "markdown",
   "metadata": {
    "id": "C4cg3P9wcmOb"
   },
   "source": [
    "The `step_type` indicates whether a step is the first step, a middle step, or the last step in an episode:"
   ]
  },
  {
   "cell_type": "code",
   "execution_count": 16,
   "metadata": {
    "colab": {
     "base_uri": "https://localhost:8080/"
    },
    "id": "qvXKTwO7SJks",
    "outputId": "3b87670c-5c42-4943-a656-b620b3fe3a50"
   },
   "outputs": [
    {
     "data": {
      "text/plain": [
       "ArraySpec(shape=(), dtype=dtype('int32'), name='step_type')"
      ]
     },
     "execution_count": 16,
     "metadata": {
      "tags": []
     },
     "output_type": "execute_result"
    }
   ],
   "source": [
    "env.time_step_spec().step_type"
   ]
  },
  {
   "cell_type": "markdown",
   "metadata": {
    "id": "byT1cNWOc-de"
   },
   "source": [
    "The `reward` is a scalar which conveys the reward from the environment:"
   ]
  },
  {
   "cell_type": "code",
   "execution_count": 17,
   "metadata": {
    "colab": {
     "base_uri": "https://localhost:8080/"
    },
    "id": "mbWtFTCRdBou",
    "outputId": "d1e8d3eb-80d6-4238-9826-ecac556dfa8c"
   },
   "outputs": [
    {
     "data": {
      "text/plain": [
       "ArraySpec(shape=(), dtype=dtype('float32'), name='reward')"
      ]
     },
     "execution_count": 17,
     "metadata": {
      "tags": []
     },
     "output_type": "execute_result"
    }
   ],
   "source": [
    "env.time_step_spec().reward"
   ]
  },
  {
   "cell_type": "markdown",
   "metadata": {
    "id": "fb3PnaHMdVSH"
   },
   "source": [
    "The `discount` is a factor that modifies the `reward`:"
   ]
  },
  {
   "cell_type": "code",
   "execution_count": 18,
   "metadata": {
    "colab": {
     "base_uri": "https://localhost:8080/"
    },
    "id": "qEvlLMBSdBhp",
    "outputId": "842647b0-1b09-4c32-903f-01d78afd1730"
   },
   "outputs": [
    {
     "data": {
      "text/plain": [
       "BoundedArraySpec(shape=(), dtype=dtype('float32'), name='discount', minimum=0.0, maximum=1.0)"
      ]
     },
     "execution_count": 18,
     "metadata": {
      "tags": []
     },
     "output_type": "execute_result"
    }
   ],
   "source": [
    "env.time_step_spec().discount"
   ]
  },
  {
   "cell_type": "markdown",
   "metadata": {
    "id": "SnMNcvGwdluI"
   },
   "source": [
    "The `observation` is the observable state of the environment:"
   ]
  },
  {
   "cell_type": "code",
   "execution_count": 19,
   "metadata": {
    "colab": {
     "base_uri": "https://localhost:8080/"
    },
    "id": "L4ImxIaRdBc0",
    "outputId": "dc41b927-2ac2-4486-f8ef-e93f238b6fb3"
   },
   "outputs": [
    {
     "data": {
      "text/plain": [
       "BoundedArraySpec(shape=(4,), dtype=dtype('float32'), name='observation', minimum=[-4.8000002e+00 -3.4028235e+38 -4.1887903e-01 -3.4028235e+38], maximum=[4.8000002e+00 3.4028235e+38 4.1887903e-01 3.4028235e+38])"
      ]
     },
     "execution_count": 19,
     "metadata": {
      "tags": []
     },
     "output_type": "execute_result"
    }
   ],
   "source": [
    "env.time_step_spec().observation"
   ]
  },
  {
   "cell_type": "markdown",
   "metadata": {
    "id": "zN7rw5a-d6v3"
   },
   "source": [
    "In this case we have a vector with 4 elements - one each for the cart displacement, cart velocity, pole angle, and pole angular velocity. "
   ]
  },
  {
   "cell_type": "markdown",
   "metadata": {
    "id": "IVllomMLfPzO"
   },
   "source": [
    "### Demonstrate the evolution of the environment\n",
    "\n",
    "Let's submit 10 `RIGHT` actions to the environment, just for fun:\n"
   ]
  },
  {
   "cell_type": "markdown",
   "metadata": {
    "id": "dye0LOUvgr5T"
   },
   "source": [
    "It is interesting to see an agent actually performing a task in an environment. \n",
    "\n",
    "First, create a function to embed videos in the notebook."
   ]
  },
  {
   "cell_type": "code",
   "execution_count": 20,
   "metadata": {
    "id": "l7YqTromgr5T"
   },
   "outputs": [],
   "source": [
    "def embed_mp4(filename):\n",
    "  \"\"\"Embeds an mp4 file in the notebook.\"\"\"\n",
    "  video = open(filename,'rb').read()\n",
    "  b64 = base64.b64encode(video)\n",
    "  tag = '''\n",
    "  <video width=\"640\" height=\"480\" controls>\n",
    "    <source src=\"data:video/mp4;base64,{0}\" type=\"video/mp4\">\n",
    "  Your browser does not support the video tag.\n",
    "  </video>'''.format(b64.decode())\n",
    "\n",
    "  return IPython.display.HTML(tag)"
   ]
  },
  {
   "cell_type": "markdown",
   "metadata": {
    "id": "-D4Z-7X9gr5U"
   },
   "source": [
    "Now iterate through a few episodes of the Cartpole game with the agent. The underlying Python environment (the one \"inside\" the TensorFlow environment wrapper) provides a `render()` method, which outputs an image of the environment state. These can be collected into a video."
   ]
  },
  {
   "cell_type": "code",
   "execution_count": 21,
   "metadata": {
    "id": "wLQGQZVHgr5U"
   },
   "outputs": [],
   "source": [
    "def create_video(filename, action, num_steps=10, fps=30):\n",
    "  filename = filename + \".mp4\"\n",
    "  env.reset()\n",
    "  with imageio.get_writer(filename, fps=fps) as video:\n",
    "    video.append_data(env.render())\n",
    "    for _ in range(num_steps):\n",
    "      tstep = env.step(action); print(tstep)\n",
    "      video.append_data(env.render())\n",
    "  return embed_mp4(filename)"
   ]
  },
  {
   "cell_type": "code",
   "execution_count": 22,
   "metadata": {
    "id": "fgarXWXydBaF"
   },
   "outputs": [],
   "source": [
    "action = np.array(1, dtype=np.int32) #move RIGHT action"
   ]
  },
  {
   "cell_type": "code",
   "execution_count": 23,
   "metadata": {
    "id": "MSjp-UcydBXL"
   },
   "outputs": [],
   "source": [
    "# create_video(\"untrained-agent\", action, 50)"
   ]
  },
  {
   "cell_type": "markdown",
   "metadata": {
    "id": "4JSc9GviWUBK"
   },
   "source": [
    "We will use two environments: one for training and one for evaluation. "
   ]
  },
  {
   "cell_type": "code",
   "execution_count": 24,
   "metadata": {
    "id": "N7brXNIGWXjC"
   },
   "outputs": [],
   "source": [
    "train_py_env = suite_gym.load(env_name)\n",
    "eval_py_env = suite_gym.load(env_name)"
   ]
  },
  {
   "cell_type": "markdown",
   "metadata": {
    "id": "aoXsA9sarHO7"
   },
   "source": [
    "### Convert environments to TensorFlow"
   ]
  },
  {
   "cell_type": "markdown",
   "metadata": {
    "id": "zuUqXAVmecTU"
   },
   "source": [
    "The Cartpole environment, like most environments, is written in pure Python. This is converted to TensorFlow using the `TFPyEnvironment` wrapper.\n",
    "\n",
    "The original environment's API uses Numpy arrays. The `TFPyEnvironment` converts these to `Tensors` to make it compatible with Tensorflow agents and policies.\n"
   ]
  },
  {
   "cell_type": "code",
   "execution_count": 25,
   "metadata": {
    "id": "Xp-Y4mD6eDhF"
   },
   "outputs": [],
   "source": [
    "train_env = tf_py_environment.TFPyEnvironment(train_py_env)\n",
    "eval_env = tf_py_environment.TFPyEnvironment(eval_py_env)"
   ]
  },
  {
   "cell_type": "markdown",
   "metadata": {
    "id": "E9lW_OZYFR8A"
   },
   "source": [
    "## 7. Agent\n",
    "\n",
    "The controller in our problem is the algorithm used to solve the problem. In RL parlance the controller is known as an `Agent`. TF-Agents provides standard implementations of a variety of `Agents`, including:\n",
    "\n",
    "-   [DQN](https://storage.googleapis.com/deepmind-media/dqn/DQNNaturePaper.pdf)\n",
    "-   [REINFORCE](https://www-anw.cs.umass.edu/~barto/courses/cs687/williams92simple.pdf)\n",
    "-   [DDPG](https://arxiv.org/pdf/1509.02971.pdf)\n",
    "-   [TD3](https://arxiv.org/pdf/1802.09477.pdf)\n",
    "-   [PPO](https://arxiv.org/abs/1707.06347)\n",
    "-   [SAC](https://arxiv.org/abs/1801.01290).\n",
    "\n",
    "For our problem we will use the DQN agent. The DQN agent can be used in any environment which has a discrete action space.\n",
    "\n",
    "The fundamental problem for an Agent is how to find the next best action to submit to the environment. In the case of a DQN Agent the agent makes use of a `QNetwork`, which is a neural network model that can learn to predict `QValues` (expected returns) for all actions, given an observation from the environment. By inspecting the `QValues`, the agent can decide on the best next action."
   ]
  },
  {
   "cell_type": "markdown",
   "metadata": {
    "id": "kWBr2y4_tYIw"
   },
   "source": [
    "### QNetwork\n",
    "\n",
    "We use `tf_agents.networks.q_network` to create a `QNetwork`, passing in the `observation_spec`, `action_spec`, and a tuple `fc_layer_params` describing the number and size of the model's hidden layers. Each value in the tuple specifies the number of neurons for that hidden layer:\n"
   ]
  },
  {
   "cell_type": "code",
   "execution_count": 26,
   "metadata": {
    "id": "TgkdEPg_muzV"
   },
   "outputs": [],
   "source": [
    "fc_layer_params = (100,)\n",
    "q_net = q_network.QNetwork(\n",
    "    input_tensor_spec= train_env.observation_spec(), \n",
    "    action_spec=       train_env.action_spec(), \n",
    "    fc_layer_params=   fc_layer_params)"
   ]
  },
  {
   "cell_type": "markdown",
   "metadata": {
    "id": "z62u55hSmviJ"
   },
   "source": [
    "### DqnAgent\n",
    "We now use `tf_agents.agents.dqn.dqn_agent` to instantiate a `DqnAgent`. In addition to the `time_step_spec`, `action_spec` and the QNetwork, the agent constructor also requires an optimizer (in this case, `AdamOptimizer`), a loss function, and an integer step counter."
   ]
  },
  {
   "cell_type": "code",
   "execution_count": 27,
   "metadata": {
    "id": "jbY4yrjTEyc9"
   },
   "outputs": [],
   "source": [
    "optimizer = tf.compat.v1.train.AdamOptimizer(learning_rate=LEARNING_RATE)\n",
    "train_step_counter = tf.Variable(0)\n",
    "agent = dqn_agent.DqnAgent(\n",
    "    time_step_spec=     train_env.time_step_spec(),\n",
    "    action_spec=        train_env.action_spec(),\n",
    "    q_network=          q_net,\n",
    "    optimizer=          optimizer,\n",
    "    td_errors_loss_fn=  common.element_wise_squared_loss,\n",
    "    train_step_counter= train_step_counter)\n",
    "agent.initialize()"
   ]
  },
  {
   "cell_type": "markdown",
   "metadata": {
    "id": "I0KLrEPwkn5x"
   },
   "source": [
    "### Policies\n",
    "\n",
    "A policy defines the way an agent acts relative to the environment. The goal of reinforcement learning is to train the underlying model until the policy produces the desired outcome.\n",
    "\n",
    "In this problem:\n",
    "\n",
    "-   The desired outcome is keeping the pole balanced vertically over the cart\n",
    "-   The policy returns an action (LEFT or RIGHT) for each `TimeStep`'s `observation`\n",
    "\n",
    "Agents contain two policies: \n",
    "\n",
    "-   `agent.policy` — The main policy that is used for evaluation and deployment.\n",
    "-   `agent.collect_policy` — A second policy that is used for data collection.\n"
   ]
  },
  {
   "cell_type": "code",
   "execution_count": 28,
   "metadata": {
    "colab": {
     "base_uri": "https://localhost:8080/"
    },
    "id": "BwY7StuMkuV4",
    "outputId": "9d4f0f53-1b01-4290-daa7-6c35345e0f27"
   },
   "outputs": [
    {
     "data": {
      "text/plain": [
       "<tf_agents.policies.greedy_policy.GreedyPolicy at 0x7f1cdb320b00>"
      ]
     },
     "execution_count": 28,
     "metadata": {
      "tags": []
     },
     "output_type": "execute_result"
    }
   ],
   "source": [
    "eval_policy = agent.policy\n",
    "eval_policy"
   ]
  },
  {
   "cell_type": "code",
   "execution_count": 29,
   "metadata": {
    "colab": {
     "base_uri": "https://localhost:8080/"
    },
    "id": "aDRtP8G-yxEd",
    "outputId": "3125fb35-c846-469d-b7cf-6b2dd79eee0a"
   },
   "outputs": [
    {
     "data": {
      "text/plain": [
       "<tf_agents.policies.epsilon_greedy_policy.EpsilonGreedyPolicy at 0x7f1cdb3209e8>"
      ]
     },
     "execution_count": 29,
     "metadata": {
      "tags": []
     },
     "output_type": "execute_result"
    }
   ],
   "source": [
    "collect_policy = agent.collect_policy\n",
    "collect_policy"
   ]
  },
  {
   "cell_type": "markdown",
   "metadata": {
    "id": "2Qs1Fl3dV0ae"
   },
   "source": [
    "Policies can be created independently of agents. For example, use `tf_agents.policies.random_tf_policy` to create a policy which will randomly select an action for each `time_step`."
   ]
  },
  {
   "cell_type": "code",
   "execution_count": 30,
   "metadata": {
    "id": "HE37-UCIrE69"
   },
   "outputs": [],
   "source": [
    "random_policy = random_tf_policy.RandomTFPolicy(\n",
    "    time_step_spec= train_env.time_step_spec(), \n",
    "    action_spec=    train_env.action_spec())"
   ]
  },
  {
   "cell_type": "markdown",
   "metadata": {
    "id": "dOlnlRRsUbxP"
   },
   "source": [
    "To get an action from a policy, call the `policy.action(tstep)` method. The `tstep` of type `TimeStep` contains the observation from the environment. This method returns a `PolicyStep`, which is a named tuple with three components:\n",
    "\n",
    "-   `action` — the action to be taken (in this case, `0` or `1`)\n",
    "-   `state` — used for stateful (that is, RNN-based) policies\n",
    "-   `info` — auxiliary data, such as log probabilities of actions"
   ]
  },
  {
   "cell_type": "markdown",
   "metadata": {
    "id": "7sLfx_CzzNz8"
   },
   "source": [
    "Let's create an example environment and setup a random policy:"
   ]
  },
  {
   "cell_type": "code",
   "execution_count": 31,
   "metadata": {
    "id": "5gCcpXswVAxk"
   },
   "outputs": [],
   "source": [
    "example_environment = tf_py_environment.TFPyEnvironment(\n",
    "    suite_gym.load('CartPole-v0'))"
   ]
  },
  {
   "cell_type": "markdown",
   "metadata": {
    "id": "_ZgkSaGhzvgk"
   },
   "source": [
    "We reset this environment:"
   ]
  },
  {
   "cell_type": "code",
   "execution_count": 32,
   "metadata": {
    "colab": {
     "base_uri": "https://localhost:8080/"
    },
    "id": "D4DHZtq3Ndis",
    "outputId": "2801d73c-ef50-40a4-f08e-2c7d59ab0651"
   },
   "outputs": [
    {
     "data": {
      "text/plain": [
       "TimeStep(step_type=<tf.Tensor: shape=(1,), dtype=int32, numpy=array([0], dtype=int32)>, reward=<tf.Tensor: shape=(1,), dtype=float32, numpy=array([0.], dtype=float32)>, discount=<tf.Tensor: shape=(1,), dtype=float32, numpy=array([1.], dtype=float32)>, observation=<tf.Tensor: shape=(1, 4), dtype=float32, numpy=\n",
       "array([[ 0.04777068, -0.02450945, -0.03095539, -0.01279974]],\n",
       "      dtype=float32)>)"
      ]
     },
     "execution_count": 32,
     "metadata": {
      "tags": []
     },
     "output_type": "execute_result"
    }
   ],
   "source": [
    "tstep = example_environment.reset()\n",
    "tstep"
   ]
  },
  {
   "cell_type": "code",
   "execution_count": 33,
   "metadata": {
    "colab": {
     "base_uri": "https://localhost:8080/"
    },
    "id": "zqQMzy9Pz4Py",
    "outputId": "defb56df-1d50-4d5f-bfeb-3d8dcbe78600"
   },
   "outputs": [
    {
     "data": {
      "text/plain": [
       "('step_type', 'reward', 'discount', 'observation')"
      ]
     },
     "execution_count": 33,
     "metadata": {
      "tags": []
     },
     "output_type": "execute_result"
    }
   ],
   "source": [
    "tstep._fields"
   ]
  },
  {
   "cell_type": "code",
   "execution_count": 34,
   "metadata": {
    "colab": {
     "base_uri": "https://localhost:8080/"
    },
    "id": "rt37ROxD0FXn",
    "outputId": "e2f1fd23-1624-4e8b-ede2-966d9c43fee6"
   },
   "outputs": [
    {
     "name": "stdout",
     "output_type": "stream",
     "text": [
      "tf.Tensor([0], shape=(1,), dtype=int32)\n",
      "tf.Tensor([0.], shape=(1,), dtype=float32)\n",
      "tf.Tensor([1.], shape=(1,), dtype=float32)\n",
      "tf.Tensor([[ 0.04777068 -0.02450945 -0.03095539 -0.01279974]], shape=(1, 4), dtype=float32)\n"
     ]
    }
   ],
   "source": [
    "print(tstep.step_type)\n",
    "print(tstep.reward)\n",
    "print(tstep.discount)\n",
    "print(tstep.observation)"
   ]
  },
  {
   "cell_type": "markdown",
   "metadata": {
    "id": "tWSFDcAt0X4c"
   },
   "source": [
    "Now we find the `PolicyStep` from which the next `action` can be found:"
   ]
  },
  {
   "cell_type": "code",
   "execution_count": 35,
   "metadata": {
    "colab": {
     "base_uri": "https://localhost:8080/"
    },
    "id": "PRFqAUzpNaAW",
    "outputId": "c4ed3612-6e10-4953-d13a-5fda65424186"
   },
   "outputs": [
    {
     "data": {
      "text/plain": [
       "PolicyStep(action=<tf.Tensor: shape=(1,), dtype=int64, numpy=array([0])>, state=(), info=())"
      ]
     },
     "execution_count": 35,
     "metadata": {
      "tags": []
     },
     "output_type": "execute_result"
    }
   ],
   "source": [
    "pstep = random_policy.action(tstep)\n",
    "pstep"
   ]
  },
  {
   "cell_type": "code",
   "execution_count": 36,
   "metadata": {
    "colab": {
     "base_uri": "https://localhost:8080/"
    },
    "id": "W7llvqyLyfAT",
    "outputId": "5b1ed0a5-da79-4508-f7c5-28acc4b9a01e"
   },
   "outputs": [
    {
     "data": {
      "text/plain": [
       "('action', 'state', 'info')"
      ]
     },
     "execution_count": 36,
     "metadata": {
      "tags": []
     },
     "output_type": "execute_result"
    }
   ],
   "source": [
    "pstep._fields"
   ]
  },
  {
   "cell_type": "code",
   "execution_count": 37,
   "metadata": {
    "colab": {
     "base_uri": "https://localhost:8080/"
    },
    "id": "xJHQbbb586DK",
    "outputId": "b48eb33e-827f-4faa-b5ef-0177dcf5fbc4"
   },
   "outputs": [
    {
     "name": "stdout",
     "output_type": "stream",
     "text": [
      "tf.Tensor([0], shape=(1,), dtype=int64)\n",
      "()\n",
      "()\n"
     ]
    }
   ],
   "source": [
    "print(pstep.action)\n",
    "print(pstep.state)\n",
    "print(pstep.info)"
   ]
  },
  {
   "cell_type": "markdown",
   "metadata": {
    "id": "94rCXQtbUbXv"
   },
   "source": [
    "## 8. Metrics and Evaluation\n",
    "\n",
    "The most common metric used to evaluate a policy is the **average return**. The return is the sum of rewards obtained while running a policy in an environment for an episode. Several episodes are run, creating an average return.\n",
    "\n",
    "The following function computes the average return of a policy, given the policy, environment, and a number of episodes.\n"
   ]
  },
  {
   "cell_type": "code",
   "execution_count": 38,
   "metadata": {
    "id": "bitzHo5_UbXy"
   },
   "outputs": [],
   "source": [
    "def compute_avg_return(env, pol, num_episodes=10):\n",
    "  total_return = 0.0\n",
    "  for _ in range(num_episodes):\n",
    "    tstep = env.reset()\n",
    "    episode_return = 0.0\n",
    "    while not tstep.is_last():\n",
    "      pstep = pol.action(tstep)\n",
    "      tstep = env.step(pstep.action)\n",
    "      episode_return += tstep.reward\n",
    "    total_return += episode_return\n",
    "  avg_return = total_return / num_episodes\n",
    "  return avg_return.numpy()[0]\n",
    "# See also the metrics module for standard implementations of different metrics.\n",
    "# https://github.com/tensorflow/agents/tree/master/tf_agents/metrics"
   ]
  },
  {
   "cell_type": "markdown",
   "metadata": {
    "id": "_snCVvq5Z8lJ"
   },
   "source": [
    "Running this computation on the `random_policy` shows a baseline performance in the environment."
   ]
  },
  {
   "cell_type": "code",
   "execution_count": 39,
   "metadata": {
    "colab": {
     "base_uri": "https://localhost:8080/"
    },
    "id": "xKFMXrtGzdqy",
    "outputId": "54cd979f-d776-4955-c779-82655dd80c5d"
   },
   "outputs": [
    {
     "data": {
      "text/plain": [
       "10"
      ]
     },
     "execution_count": 39,
     "metadata": {
      "tags": []
     },
     "output_type": "execute_result"
    }
   ],
   "source": [
    "NUM_EVAL_EPISODES"
   ]
  },
  {
   "cell_type": "code",
   "execution_count": 40,
   "metadata": {
    "colab": {
     "base_uri": "https://localhost:8080/"
    },
    "id": "9bgU6Q6BZ8Bp",
    "outputId": "c198a665-31ca-4686-b01d-fbe40f83b58f"
   },
   "outputs": [
    {
     "data": {
      "text/plain": [
       "26.4"
      ]
     },
     "execution_count": 40,
     "metadata": {
      "tags": []
     },
     "output_type": "execute_result"
    }
   ],
   "source": [
    "compute_avg_return(eval_env, random_policy, NUM_EVAL_EPISODES)"
   ]
  },
  {
   "cell_type": "markdown",
   "metadata": {
    "id": "NLva6g2jdWgr"
   },
   "source": [
    "## 9. Replay Buffer\n",
    "\n",
    "The replay buffer keeps track of data collected from the environment. We will use `tf_agents.replay_buffers.tf_uniform_replay_buffer.TFUniformReplayBuffer`, as it is the most common. \n",
    "\n",
    "The constructor requires the specs for the data it will be collecting. This is available from the agent using the `collect_data_spec` method. The batch size and maximum buffer length are also required.\n"
   ]
  },
  {
   "cell_type": "code",
   "execution_count": 41,
   "metadata": {
    "id": "vX2zGUWJGWAl"
   },
   "outputs": [],
   "source": [
    "replay_buffer = tf_uniform_replay_buffer.TFUniformReplayBuffer(\n",
    "    data_spec=  agent.collect_data_spec,\n",
    "    batch_size= train_env.batch_size,\n",
    "    max_length= REPLAY_BUFFER_MAX_LENGTH)"
   ]
  },
  {
   "cell_type": "markdown",
   "metadata": {
    "id": "ZGNTDJpZs4NN"
   },
   "source": [
    "For most agents, `collect_data_spec` is a named tuple called `Trajectory`, containing the specs for observations, actions, rewards, and other items."
   ]
  },
  {
   "cell_type": "code",
   "execution_count": 42,
   "metadata": {
    "colab": {
     "base_uri": "https://localhost:8080/"
    },
    "id": "_IZ-3HcqgE1z",
    "outputId": "08b23655-717f-4451-dd36-4f4a7469aee1"
   },
   "outputs": [
    {
     "data": {
      "text/plain": [
       "Trajectory(step_type=TensorSpec(shape=(), dtype=tf.int32, name='step_type'), observation=BoundedTensorSpec(shape=(4,), dtype=tf.float32, name='observation', minimum=array([-4.8000002e+00, -3.4028235e+38, -4.1887903e-01, -3.4028235e+38],\n",
       "      dtype=float32), maximum=array([4.8000002e+00, 3.4028235e+38, 4.1887903e-01, 3.4028235e+38],\n",
       "      dtype=float32)), action=BoundedTensorSpec(shape=(), dtype=tf.int64, name='action', minimum=array(0), maximum=array(1)), policy_info=(), next_step_type=TensorSpec(shape=(), dtype=tf.int32, name='step_type'), reward=TensorSpec(shape=(), dtype=tf.float32, name='reward'), discount=BoundedTensorSpec(shape=(), dtype=tf.float32, name='discount', minimum=array(0., dtype=float32), maximum=array(1., dtype=float32)))"
      ]
     },
     "execution_count": 42,
     "metadata": {
      "tags": []
     },
     "output_type": "execute_result"
    }
   ],
   "source": [
    "agent.collect_data_spec"
   ]
  },
  {
   "cell_type": "code",
   "execution_count": 43,
   "metadata": {
    "colab": {
     "base_uri": "https://localhost:8080/"
    },
    "id": "sy6g1tGcfRlw",
    "outputId": "28b3d37c-beed-4161-f860-d7a444dafb0b"
   },
   "outputs": [
    {
     "data": {
      "text/plain": [
       "('step_type',\n",
       " 'observation',\n",
       " 'action',\n",
       " 'policy_info',\n",
       " 'next_step_type',\n",
       " 'reward',\n",
       " 'discount')"
      ]
     },
     "execution_count": 43,
     "metadata": {
      "tags": []
     },
     "output_type": "execute_result"
    }
   ],
   "source": [
    "agent.collect_data_spec._fields"
   ]
  },
  {
   "cell_type": "markdown",
   "metadata": {
    "id": "rVD5nQ9ZGo8_"
   },
   "source": [
    "## 10. Data Collection\n",
    "\n",
    "Now we execute the random policy in the environment for a few steps, recording the data in the replay buffer."
   ]
  },
  {
   "cell_type": "code",
   "execution_count": 44,
   "metadata": {
    "id": "wr1KSAEGG4h9"
   },
   "outputs": [],
   "source": [
    "def collect_step(env, pol, buffer):\n",
    "  tstep = env.current_time_step()\n",
    "  pstep = pol.action(tstep)\n",
    "  next_tstep = env.step(pstep.action)\n",
    "  traj = trajectory.from_transition(tstep, pstep, next_tstep)\n",
    "  buffer.add_batch(traj) # Add trajectory to the replay buffer\n",
    "\n",
    "def collect_data(env, pol, buffer, steps):\n",
    "  for _ in range(steps):\n",
    "    collect_step(env, pol, buffer)\n",
    "\n",
    "collect_data(train_env, random_policy, replay_buffer, INITIAL_COLLECT_STEPS)\n",
    "\n",
    "# This loop is so common in RL, that we provide standard implementations. \n",
    "# For more details see the drivers module.\n",
    "# https://www.tensorflow.org/agents/api_docs/python/tf_agents/drivers"
   ]
  },
  {
   "cell_type": "markdown",
   "metadata": {
    "id": "84z5pQJdoKxo"
   },
   "source": [
    "The replay buffer is now a collection of Trajectories. Let's inspect one of the Trajectories:"
   ]
  },
  {
   "cell_type": "code",
   "execution_count": 82,
   "metadata": {
    "colab": {
     "base_uri": "https://localhost:8080/"
    },
    "id": "4wZnLu2ViO4E",
    "outputId": "2a9717b0-7876-4d92-ec7e-5f5ab76ad9e2"
   },
   "outputs": [
    {
     "name": "stdout",
     "output_type": "stream",
     "text": [
      "<class 'tuple'>\n",
      "2\n",
      "(Trajectory(step_type=<tf.Tensor: shape=(), dtype=int32, numpy=1>, observation=<tf.Tensor: shape=(4,), dtype=float32, numpy=array([-0.01126854, -0.16798736,  0.10049265,  0.40535218], dtype=float32)>, action=<tf.Tensor: shape=(), dtype=int64, numpy=0>, policy_info=(), next_step_type=<tf.Tensor: shape=(), dtype=int32, numpy=1>, reward=<tf.Tensor: shape=(), dtype=float32, numpy=1.0>, discount=<tf.Tensor: shape=(), dtype=float32, numpy=1.0>), BufferInfo(ids=<tf.Tensor: shape=(), dtype=int64, numpy=34>, probabilities=<tf.Tensor: shape=(), dtype=float32, numpy=0.01>))\n"
     ]
    }
   ],
   "source": [
    "traj = iter(replay_buffer.as_dataset()).next()\n",
    "print(type(traj))\n",
    "print(len(traj))\n",
    "print(traj);"
   ]
  },
  {
   "cell_type": "code",
   "execution_count": 83,
   "metadata": {
    "colab": {
     "base_uri": "https://localhost:8080/"
    },
    "id": "bPlmzAvLWwO1",
    "outputId": "056c0d4d-8b54-4b9a-ce68-e47b099896a0"
   },
   "outputs": [
    {
     "data": {
      "text/plain": [
       "Trajectory(step_type=<tf.Tensor: shape=(), dtype=int32, numpy=1>, observation=<tf.Tensor: shape=(4,), dtype=float32, numpy=array([-0.01126854, -0.16798736,  0.10049265,  0.40535218], dtype=float32)>, action=<tf.Tensor: shape=(), dtype=int64, numpy=0>, policy_info=(), next_step_type=<tf.Tensor: shape=(), dtype=int32, numpy=1>, reward=<tf.Tensor: shape=(), dtype=float32, numpy=1.0>, discount=<tf.Tensor: shape=(), dtype=float32, numpy=1.0>)"
      ]
     },
     "execution_count": 83,
     "metadata": {
      "tags": []
     },
     "output_type": "execute_result"
    }
   ],
   "source": [
    "traj[0]"
   ]
  },
  {
   "cell_type": "code",
   "execution_count": 84,
   "metadata": {
    "colab": {
     "base_uri": "https://localhost:8080/"
    },
    "id": "d-uvmakNX623",
    "outputId": "abd2091e-8f29-42e8-cae2-a79b2787c08e"
   },
   "outputs": [
    {
     "data": {
      "text/plain": [
       "tf_agents.trajectories.trajectory.Trajectory"
      ]
     },
     "execution_count": 84,
     "metadata": {
      "tags": []
     },
     "output_type": "execute_result"
    }
   ],
   "source": [
    "type(traj[0])"
   ]
  },
  {
   "cell_type": "code",
   "execution_count": 85,
   "metadata": {
    "colab": {
     "base_uri": "https://localhost:8080/"
    },
    "id": "-jFiMstgYHuK",
    "outputId": "364684d1-d3ed-48da-f219-c671168c10e6"
   },
   "outputs": [
    {
     "data": {
      "text/plain": [
       "('step_type',\n",
       " 'observation',\n",
       " 'action',\n",
       " 'policy_info',\n",
       " 'next_step_type',\n",
       " 'reward',\n",
       " 'discount')"
      ]
     },
     "execution_count": 85,
     "metadata": {
      "tags": []
     },
     "output_type": "execute_result"
    }
   ],
   "source": [
    "traj[0]._fields"
   ]
  },
  {
   "cell_type": "code",
   "execution_count": 86,
   "metadata": {
    "colab": {
     "base_uri": "https://localhost:8080/"
    },
    "id": "W0xF1tnC6msn",
    "outputId": "5df3910b-1f79-45a8-81c4-0445e8e845ac"
   },
   "outputs": [
    {
     "name": "stdout",
     "output_type": "stream",
     "text": [
      "step_type: tf.Tensor(1, shape=(), dtype=int32)\n",
      "observation: tf.Tensor([-0.01126854 -0.16798736  0.10049265  0.40535218], shape=(4,), dtype=float32)\n",
      "action: tf.Tensor(0, shape=(), dtype=int64)\n",
      "policy_info: ()\n",
      "next_step_type: tf.Tensor(1, shape=(), dtype=int32)\n",
      "reward: tf.Tensor(1.0, shape=(), dtype=float32)\n",
      "discount: tf.Tensor(1.0, shape=(), dtype=float32)\n"
     ]
    }
   ],
   "source": [
    "print('step_type:', traj[0].step_type)\n",
    "print('observation:', traj[0].observation)\n",
    "print('action:', traj[0].action)\n",
    "print('policy_info:', traj[0].policy_info)\n",
    "print('next_step_type:', traj[0].next_step_type)\n",
    "print('reward:', traj[0].reward)\n",
    "print('discount:', traj[0].discount)"
   ]
  },
  {
   "cell_type": "code",
   "execution_count": 87,
   "metadata": {
    "colab": {
     "base_uri": "https://localhost:8080/"
    },
    "id": "w2J7SAu-YfZ0",
    "outputId": "968f468e-8ba2-46e1-921c-380eabe87355"
   },
   "outputs": [
    {
     "data": {
      "text/plain": [
       "BufferInfo(ids=<tf.Tensor: shape=(), dtype=int64, numpy=34>, probabilities=<tf.Tensor: shape=(), dtype=float32, numpy=0.01>)"
      ]
     },
     "execution_count": 87,
     "metadata": {
      "tags": []
     },
     "output_type": "execute_result"
    }
   ],
   "source": [
    "traj[1]"
   ]
  },
  {
   "cell_type": "code",
   "execution_count": 88,
   "metadata": {
    "colab": {
     "base_uri": "https://localhost:8080/"
    },
    "id": "0qQL2QhUYfRk",
    "outputId": "0ba3e801-1afa-48f9-8b36-5c67858b9815"
   },
   "outputs": [
    {
     "data": {
      "text/plain": [
       "tf_agents.replay_buffers.tf_uniform_replay_buffer.BufferInfo"
      ]
     },
     "execution_count": 88,
     "metadata": {
      "tags": []
     },
     "output_type": "execute_result"
    }
   ],
   "source": [
    "type(traj[1])"
   ]
  },
  {
   "cell_type": "code",
   "execution_count": 89,
   "metadata": {
    "colab": {
     "base_uri": "https://localhost:8080/"
    },
    "id": "6fwgcbf8Y2p_",
    "outputId": "1bc82608-c066-4c67-efc0-30c2a29e976b"
   },
   "outputs": [
    {
     "data": {
      "text/plain": [
       "('ids', 'probabilities')"
      ]
     },
     "execution_count": 89,
     "metadata": {
      "tags": []
     },
     "output_type": "execute_result"
    }
   ],
   "source": [
    "traj[1]._fields"
   ]
  },
  {
   "cell_type": "code",
   "execution_count": 90,
   "metadata": {
    "colab": {
     "base_uri": "https://localhost:8080/"
    },
    "id": "-6qg48cmY2mF",
    "outputId": "42be86b1-dc1b-4950-c1cb-49ba025f3d12"
   },
   "outputs": [
    {
     "name": "stdout",
     "output_type": "stream",
     "text": [
      "ids: tf.Tensor(34, shape=(), dtype=int64)\n",
      "probabilities: tf.Tensor(0.01, shape=(), dtype=float32)\n"
     ]
    }
   ],
   "source": [
    "print('ids:', traj[1].ids)\n",
    "print('probabilities:', traj[1].probabilities)"
   ]
  },
  {
   "cell_type": "markdown",
   "metadata": {
    "id": "TujU-PMUsKjS"
   },
   "source": [
    "The agent needs access to the replay buffer. TF-Agents provide this access by creating an iterable `tf.data.Dataset` pipeline which will feed data to the agent.\n",
    "\n",
    "Each row of the replay buffer only stores a single observation step. But since the DQN Agent needs both the current and next observation to compute the loss, the dataset pipeline will sample two adjacent rows for each item in the batch (`num_steps=2`).\n",
    "\n",
    "The code also optimize this dataset by running parallel calls and prefetching data."
   ]
  },
  {
   "cell_type": "code",
   "execution_count": 93,
   "metadata": {
    "colab": {
     "base_uri": "https://localhost:8080/"
    },
    "id": "QWuA3GbfiASI",
    "outputId": "c5d46e77-1f5e-48c5-d018-0509514cd4f8"
   },
   "outputs": [
    {
     "name": "stdout",
     "output_type": "stream",
     "text": [
      "64\n"
     ]
    }
   ],
   "source": [
    "print(BATCH_SIZE)"
   ]
  },
  {
   "cell_type": "code",
   "execution_count": 92,
   "metadata": {
    "colab": {
     "base_uri": "https://localhost:8080/"
    },
    "id": "ba7bilizt_qW",
    "outputId": "47a337e5-1787-4750-e245-0b983da7aef0"
   },
   "outputs": [
    {
     "data": {
      "text/plain": [
       "<PrefetchDataset shapes: (Trajectory(step_type=(64, 2), observation=(64, 2, 4), action=(64, 2), policy_info=(), next_step_type=(64, 2), reward=(64, 2), discount=(64, 2)), BufferInfo(ids=(64, 2), probabilities=(64,))), types: (Trajectory(step_type=tf.int32, observation=tf.float32, action=tf.int64, policy_info=(), next_step_type=tf.int32, reward=tf.float32, discount=tf.float32), BufferInfo(ids=tf.int64, probabilities=tf.float32))>"
      ]
     },
     "execution_count": 92,
     "metadata": {
      "tags": []
     },
     "output_type": "execute_result"
    }
   ],
   "source": [
    "# Dataset generates trajectories with shape [Bx2x...]\n",
    "dataset = replay_buffer.as_dataset(\n",
    "    num_parallel_calls=3, \n",
    "    sample_batch_size=BATCH_SIZE, \n",
    "    num_steps=2).prefetch(3)\n",
    "dataset"
   ]
  },
  {
   "cell_type": "code",
   "execution_count": 94,
   "metadata": {
    "colab": {
     "base_uri": "https://localhost:8080/"
    },
    "id": "K13AST-2ppOq",
    "outputId": "93c9c140-a0e6-4247-d494-5e4514c38a73"
   },
   "outputs": [
    {
     "name": "stdout",
     "output_type": "stream",
     "text": [
      "<tensorflow.python.data.ops.iterator_ops.OwnedIterator object at 0x7f1cd88b10f0>\n"
     ]
    }
   ],
   "source": [
    "iterator = iter(dataset)\n",
    "print(iterator)"
   ]
  },
  {
   "cell_type": "code",
   "execution_count": 95,
   "metadata": {
    "id": "Th5w5Sff0b16"
   },
   "outputs": [],
   "source": [
    "# Compare this representation of replay data \n",
    "# to the collection of individual trajectories shown earlier:\n",
    "# iterator.next()"
   ]
  },
  {
   "cell_type": "markdown",
   "metadata": {
    "id": "hBc9lj9VWWtZ"
   },
   "source": [
    "## 11. Training the agent\n",
    "\n",
    "Two things must happen during the training loop:\n",
    "\n",
    "-   collect data from the environment\n",
    "-   use that data to train the agent's neural network(s)\n",
    "\n",
    "This example also periodicially evaluates the policy and prints the current score.\n",
    "\n",
    "The following will take ~5 minutes to run."
   ]
  },
  {
   "cell_type": "code",
   "execution_count": null,
   "metadata": {
    "id": "kJ-Bvvlf7uIN"
   },
   "outputs": [],
   "source": [
    "# num_iterations = 20000 # @param {type:\"integer\"} #.\n",
    "\n",
    "# initial_collect_steps = 100  # @param {type:\"integer\"} \n",
    "# collect_steps_per_iteration = 1  # @param {type:\"integer\"}\n",
    "# replay_buffer_max_length = 100000  # @param {type:\"integer\"}\n",
    "\n",
    "# batch_size = 64  # @param {type:\"integer\"}\n",
    "# learning_rate = 1e-3  # @param {type:\"number\"}\n",
    "# log_interval = 200  # @param {type:\"integer\"}\n",
    "\n",
    "# num_eval_episodes = 10  # @param {type:\"integer\"}\n",
    "# eval_interval = 1000  # @param {type:\"integer\"}"
   ]
  },
  {
   "cell_type": "code",
   "execution_count": 105,
   "metadata": {
    "id": "8vdorhCI74h2"
   },
   "outputs": [],
   "source": [
    "# NUM_ITERATIONS\n",
    "NUM_ITERATIONS = 20000"
   ]
  },
  {
   "cell_type": "code",
   "execution_count": 106,
   "metadata": {
    "colab": {
     "base_uri": "https://localhost:8080/"
    },
    "id": "0pTbJ3PeyF-u",
    "outputId": "ea229e20-17e2-4e3f-a475-a9d9c8f42904"
   },
   "outputs": [
    {
     "name": "stdout",
     "output_type": "stream",
     "text": [
      "CPU times: user 2 µs, sys: 0 ns, total: 2 µs\n",
      "Wall time: 5.96 µs\n",
      "step = 200: loss = 195.16213989257812\n",
      "step = 400: loss = 226.61244201660156\n",
      "step = 600: loss = 274.764892578125\n",
      "step = 800: loss = 42.2076416015625\n",
      "step = 1000: loss = 6.291749954223633\n",
      "step = 1000: Average Return = 33.79999923706055\n",
      "step = 1200: loss = 50.53717803955078\n",
      "step = 1400: loss = 36.393985748291016\n",
      "step = 1600: loss = 172.8566436767578\n",
      "step = 1800: loss = 11.371061325073242\n",
      "step = 2000: loss = 18.2037353515625\n",
      "step = 2000: Average Return = 72.80000305175781\n",
      "step = 2200: loss = 54.74932861328125\n",
      "step = 2400: loss = 16.711841583251953\n",
      "step = 2600: loss = 3.500059127807617\n",
      "step = 2800: loss = 7.880290985107422\n",
      "step = 3000: loss = 8.416237831115723\n",
      "step = 3000: Average Return = 95.5999984741211\n",
      "step = 3200: loss = 607.7373657226562\n",
      "step = 3400: loss = 5.996950149536133\n",
      "step = 3600: loss = 54.01152801513672\n",
      "step = 3800: loss = 238.8196258544922\n",
      "step = 4000: loss = 21.115650177001953\n",
      "step = 4000: Average Return = 71.80000305175781\n",
      "step = 4200: loss = 247.99981689453125\n",
      "step = 4400: loss = 326.7658996582031\n",
      "step = 4600: loss = 8.009516716003418\n",
      "step = 4800: loss = 228.2291717529297\n",
      "step = 5000: loss = 10.485452651977539\n",
      "step = 5000: Average Return = 175.89999389648438\n",
      "step = 5200: loss = 217.0672607421875\n",
      "step = 5400: loss = 200.13392639160156\n",
      "step = 5600: loss = 202.6009521484375\n",
      "step = 5800: loss = 5.376280784606934\n",
      "step = 6000: loss = 5.735952377319336\n",
      "step = 6000: Average Return = 198.10000610351562\n",
      "step = 6200: loss = 54.103065490722656\n",
      "step = 6400: loss = 89.71216583251953\n",
      "step = 6600: loss = 77.9834213256836\n",
      "step = 6800: loss = 276.6645812988281\n",
      "step = 7000: loss = 261.430419921875\n",
      "step = 7000: Average Return = 195.0\n",
      "step = 7200: loss = 92.05532836914062\n",
      "step = 7400: loss = 13.44973373413086\n",
      "step = 7600: loss = 31.970050811767578\n",
      "step = 7800: loss = 18.705116271972656\n",
      "step = 8000: loss = 148.3210906982422\n",
      "step = 8000: Average Return = 198.60000610351562\n",
      "step = 8200: loss = 12.089221954345703\n",
      "step = 8400: loss = 275.4737854003906\n",
      "step = 8600: loss = 461.70880126953125\n",
      "step = 8800: loss = 740.7882690429688\n",
      "step = 9000: loss = 15.471342086791992\n",
      "step = 9000: Average Return = 200.0\n",
      "step = 9200: loss = 13.399641990661621\n",
      "step = 9400: loss = 23.77669906616211\n",
      "step = 9600: loss = 16.250200271606445\n",
      "step = 9800: loss = 18.584796905517578\n",
      "step = 10000: loss = 15.69692325592041\n",
      "step = 10000: Average Return = 200.0\n",
      "step = 10200: loss = 746.649169921875\n",
      "step = 10400: loss = 573.50390625\n",
      "step = 10600: loss = 28.51150131225586\n",
      "step = 10800: loss = 793.2840576171875\n",
      "step = 11000: loss = 26.583303451538086\n",
      "step = 11000: Average Return = 200.0\n",
      "step = 11200: loss = 878.364501953125\n",
      "step = 11400: loss = 25.9678955078125\n",
      "step = 11600: loss = 1178.5902099609375\n",
      "step = 11800: loss = 652.8362426757812\n",
      "step = 12000: loss = 660.1619262695312\n",
      "step = 12000: Average Return = 200.0\n",
      "step = 12200: loss = 35.75788497924805\n",
      "step = 12400: loss = 665.1995239257812\n",
      "step = 12600: loss = 21.658220291137695\n",
      "step = 12800: loss = 34.46709060668945\n",
      "step = 13000: loss = 1340.4808349609375\n",
      "step = 13000: Average Return = 200.0\n",
      "step = 13200: loss = 2181.42626953125\n",
      "step = 13400: loss = 37.67461395263672\n",
      "step = 13600: loss = 3320.109130859375\n",
      "step = 13800: loss = 3381.054443359375\n",
      "step = 14000: loss = 670.6203002929688\n",
      "step = 14000: Average Return = 200.0\n",
      "step = 14200: loss = 43.05519485473633\n",
      "step = 14400: loss = 54.9406852722168\n",
      "step = 14600: loss = 43.494712829589844\n",
      "step = 14800: loss = 1596.6024169921875\n",
      "step = 15000: loss = 34.50205993652344\n",
      "step = 15000: Average Return = 200.0\n",
      "step = 15200: loss = 48.124488830566406\n",
      "step = 15400: loss = 61.94905471801758\n",
      "step = 15600: loss = 80.75376892089844\n",
      "step = 15800: loss = 57.689796447753906\n",
      "step = 16000: loss = 4747.44921875\n",
      "step = 16000: Average Return = 200.0\n",
      "step = 16200: loss = 3647.16845703125\n",
      "step = 16400: loss = 2504.968994140625\n",
      "step = 16600: loss = 58.82946014404297\n",
      "step = 16800: loss = 93.2029800415039\n",
      "step = 17000: loss = 3273.479248046875\n",
      "step = 17000: Average Return = 200.0\n",
      "step = 17200: loss = 2719.405517578125\n",
      "step = 17400: loss = 109.44195556640625\n",
      "step = 17600: loss = 267.1567687988281\n",
      "step = 17800: loss = 120.11451721191406\n",
      "step = 18000: loss = 3119.292724609375\n",
      "step = 18000: Average Return = 200.0\n",
      "step = 18200: loss = 62.79007339477539\n",
      "step = 18400: loss = 1214.75830078125\n",
      "step = 18600: loss = 73.04971313476562\n",
      "step = 18800: loss = 141.36680603027344\n",
      "step = 19000: loss = 112.62451934814453\n",
      "step = 19000: Average Return = 200.0\n",
      "step = 19200: loss = 7514.24609375\n",
      "step = 19400: loss = 7860.0087890625\n",
      "step = 19600: loss = 65.12687683105469\n",
      "step = 19800: loss = 3710.064697265625\n",
      "step = 20000: loss = 3101.4462890625\n",
      "step = 20000: Average Return = 200.0\n"
     ]
    }
   ],
   "source": [
    "#@test {\"skip\": true}\n",
    "try:\n",
    "  %%time\n",
    "except:\n",
    "  pass\n",
    "\n",
    "# (Optional) Optimize by wrapping some of the code in a graph using TF function.\n",
    "agent.train = common.function(agent.train)\n",
    "\n",
    "# Reset the train step\n",
    "agent.train_step_counter.assign(0)\n",
    "\n",
    "# Evaluate the agent's policy once before training.\n",
    "avg_return = compute_avg_return(eval_env, agent.policy, NUM_EVAL_EPISODES)\n",
    "returns = [avg_return]\n",
    "\n",
    "for _ in range(NUM_ITERATIONS):\n",
    "  # Collect a few steps using collect_policy and save to the replay buffer\n",
    "  collect_data(train_env, agent.collect_policy, replay_buffer, COLLECT_STEPS_PER_ITERATION)\n",
    "\n",
    "  # Sample a batch of data from the buffer and update the agent's network\n",
    "  experience, unused_info = next(iterator)\n",
    "  train_loss = agent.train(experience).loss\n",
    "\n",
    "  step = agent.train_step_counter.numpy()\n",
    "\n",
    "  if step % LOG_INTERVAL == 0:\n",
    "    print(f'step = {step}: loss = {train_loss}')\n",
    "\n",
    "  if step % EVAL_INTERVAL == 0:\n",
    "    avg_return = compute_avg_return(eval_env, agent.policy, NUM_EVAL_EPISODES)\n",
    "    print(f'step = {step}: Average Return = {avg_return}')\n",
    "    returns.append(avg_return)"
   ]
  },
  {
   "cell_type": "markdown",
   "metadata": {
    "id": "68jNcA_TiJDq"
   },
   "source": [
    "## Visualization\n"
   ]
  },
  {
   "cell_type": "markdown",
   "metadata": {
    "id": "aO-LWCdbbOIC"
   },
   "source": [
    "### Plots\n",
    "\n",
    "Use `matplotlib.pyplot` to chart how the policy improved during training.\n",
    "\n",
    "One iteration of `Cartpole-v0` consists of 200 time steps. The environment gives a reward of `+1` for each step the pole stays up, so the maximum return for one episode is 200. The charts shows the return increasing towards that maximum each time it is evaluated during training. (It may be a little unstable and not increase monotonically each time.)"
   ]
  },
  {
   "cell_type": "code",
   "execution_count": 109,
   "metadata": {
    "colab": {
     "base_uri": "https://localhost:8080/",
     "height": 300
    },
    "id": "NxtL1mbOYCVO",
    "outputId": "609b6010-8b34-43e2-ded8-98e850c3ef28"
   },
   "outputs": [
    {
     "data": {
      "text/plain": [
       "(15.725, 250.0)"
      ]
     },
     "execution_count": 109,
     "metadata": {
      "tags": []
     },
     "output_type": "execute_result"
    },
    {
     "data": {
      "image/png": "[encoded data removed]",
      "text/plain": [
       "<Figure size 432x288 with 1 Axes>"
      ]
     },
     "metadata": {
      "needs_background": "light",
      "tags": []
     },
     "output_type": "display_data"
    }
   ],
   "source": [
    "#@test {\"skip\": true}\n",
    "iterations = range(0, NUM_ITERATIONS + 1, EVAL_INTERVAL)\n",
    "plt.plot(iterations, returns)\n",
    "plt.ylabel('Average Return')\n",
    "plt.xlabel('Iterations')\n",
    "plt.ylim(top=250)"
   ]
  },
  {
   "cell_type": "markdown",
   "metadata": {
    "id": "M7-XpPP99Cy7"
   },
   "source": [
    "### Videos"
   ]
  },
  {
   "cell_type": "markdown",
   "metadata": {
    "id": "9pGfGxSH32gn"
   },
   "source": [
    "Charts are nice. But more exciting is seeing an agent actually performing a task in an environment. \n",
    "\n",
    "First, create a function to embed videos in the notebook."
   ]
  },
  {
   "cell_type": "code",
   "execution_count": 110,
   "metadata": {
    "id": "ULaGr8pvOKbl"
   },
   "outputs": [],
   "source": [
    "def embed_mp4(filename):\n",
    "  \"\"\"Embeds an mp4 file in the notebook.\"\"\"\n",
    "  video = open(filename,'rb').read()\n",
    "  b64 = base64.b64encode(video)\n",
    "  tag = '''\n",
    "  <video width=\"640\" height=\"480\" controls>\n",
    "    <source src=\"data:video/mp4;base64,{0}\" type=\"video/mp4\">\n",
    "  Your browser does not support the video tag.\n",
    "  </video>'''.format(b64.decode())\n",
    "\n",
    "  return IPython.display.HTML(tag)"
   ]
  },
  {
   "cell_type": "markdown",
   "metadata": {
    "id": "9c_PH-pX4Pr5"
   },
   "source": [
    "Now iterate through a few episodes of the Cartpole game with the agent. The underlying Python environment (the one \"inside\" the TensorFlow environment wrapper) provides a `render()` method, which outputs an image of the environment state. These can be collected into a video."
   ]
  },
  {
   "cell_type": "code",
   "execution_count": 111,
   "metadata": {
    "id": "owOVWB158NlF"
   },
   "outputs": [],
   "source": [
    "# def create_policy_eval_video(policy, filename, num_episodes=5, fps=30):\n",
    "def create_policy_eval_video(policy, filename, num_episodes=3, fps=30):\n",
    "  filename = filename + \".mp4\"\n",
    "  with imageio.get_writer(filename, fps=fps) as video:\n",
    "    for _ in range(num_episodes):\n",
    "      time_step = eval_env.reset()\n",
    "      video.append_data(eval_py_env.render())\n",
    "      while not time_step.is_last():\n",
    "        action_step = policy.action(time_step)\n",
    "        time_step = eval_env.step(action_step.action)\n",
    "        video.append_data(eval_py_env.render())\n",
    "  return embed_mp4(filename)"
   ]
  },
  {
   "cell_type": "code",
   "execution_count": 112,
   "metadata": {
    "colab": {
     "base_uri": "https://localhost:8080/",
     "height": 539
    },
    "id": "gf7rBUYt8lXT",
    "outputId": "1e61e4f9-5375-4b47-c02c-06894c94935d"
   },
   "outputs": [
    {
     "name": "stderr",
     "output_type": "stream",
     "text": [
      "WARNING:root:IMAGEIO FFMPEG_WRITER WARNING: input image is not divisible by macro_block_size=16, resizing from (400, 600) to (400, 608) to ensure video compatibility with most codecs and players. To prevent resizing, make your input image divisible by the macro_block_size or set the macro_block_size to None (risking incompatibility). You may also see a FFMPEG warning concerning speedloss due to data not being aligned.\n"
     ]
    },
    {
     "data": {
      "text/html": [
       "\n",
       "  <video width=\"640\" height=\"480\" controls>\n",
       "    <source src=\"data:video/mp4;base64,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\" type=\"video/mp4\">\n",
       "  Your browser does not support the video tag.\n",
       "  </video>"
      ],
      "text/plain": [
       "<IPython.core.display.HTML object>"
      ]
     },
     "execution_count": 112,
     "metadata": {
      "tags": []
     },
     "output_type": "execute_result"
    }
   ],
   "source": [
    "create_policy_eval_video(agent.policy, \"trained-agent\")"
   ]
  },
  {
   "cell_type": "markdown",
   "metadata": {
    "id": "povaAOcZygLw"
   },
   "source": [
    "For fun, compare the trained agent (above) to an agent moving randomly. (It does not do as well.)"
   ]
  },
  {
   "cell_type": "code",
   "execution_count": 113,
   "metadata": {
    "colab": {
     "base_uri": "https://localhost:8080/",
     "height": 539
    },
    "id": "pJZIdC37yNH4",
    "outputId": "0e0ab706-9e1c-40d4-e818-54e971527f67"
   },
   "outputs": [
    {
     "name": "stderr",
     "output_type": "stream",
     "text": [
      "WARNING:root:IMAGEIO FFMPEG_WRITER WARNING: input image is not divisible by macro_block_size=16, resizing from (400, 600) to (400, 608) to ensure video compatibility with most codecs and players. To prevent resizing, make your input image divisible by the macro_block_size or set the macro_block_size to None (risking incompatibility). You may also see a FFMPEG warning concerning speedloss due to data not being aligned.\n"
     ]
    },
    {
     "data": {
      "text/html": [
       "\n",
       "  <video width=\"640\" height=\"480\" controls>\n",
       "    <source src=\"data:video/mp4;base64,AAAAIGZ0eXBpc29tAAACAGlzb21pc28yYXZjMW1wNDEAAAAIZnJlZQAAGX9tZGF0AAACrgYF//+q3EXpvebZSLeWLNgg2SPu73gyNjQgLSBjb3JlIDE1MiByMjg1NCBlOWE1OTAzIC0gSC4yNjQvTVBFRy00IEFWQyBjb2RlYyAtIENvcHlsZWZ0IDIwMDMtMjAxNyAtIGh0dHA6Ly93d3cudmlkZW9sYW4ub3JnL3gyNjQuaHRtbCAtIG9wdGlvbnM6IGNhYmFjPTEgcmVmPTMgZGVibG9jaz0xOjA6MCBhbmFseXNlPTB4MzoweDExMyBtZT1oZXggc3VibWU9NyBwc3k9MSBwc3lfcmQ9MS4wMDowLjAwIG1peGVkX3JlZj0xIG1lX3JhbmdlPTE2IGNocm9tYV9tZT0xIHRyZWxsaXM9MSA4eDhkY3Q9MSBjcW09MCBkZWFkem9uZT0yMSwxMSBmYXN0X3Bza2lwPTEgY2hyb21hX3FwX29mZnNldD0tMiB0aHJlYWRzPTMgbG9va2FoZWFkX3RocmVhZHM9MSBzbGljZWRfdGhyZWFkcz0wIG5yPTAgZGVjaW1hdGU9MSBpbnRlcmxhY2VkPTAgYmx1cmF5X2NvbXBhdD0wIGNvbnN0cmFpbmVkX2ludHJhPTAgYmZyYW1lcz0zIGJfcHlyYW1pZD0yIGJfYWRhcHQ9MSBiX2JpYXM9MCBkaXJlY3Q9MSB3ZWlnaHRiPTEgb3Blbl9nb3A9MCB3ZWlnaHRwPTIga2V5aW50PTI1MCBrZXlpbnRfbWluPTI1IHNjZW5lY3V0PTQwIGludHJhX3JlZnJlc2g9MCByY19sb29rYWhlYWQ9NDAgcmM9Y3JmIG1idHJlZT0xIGNyZj0yNS4wIHFjb21wPTAuNjAgcXBtaW49MCBxcG1heD02OSBxcHN0ZXA9NCBpcF9yYXRpbz0xLjQwIGFxPTE6MS4wMACAAAAB9mWIhAA3//72rvzLK0cLlS4dWXuzUfLoSXL9iDB9aAAAAwAAAwAAJuKiZ0WFMeJsgAAALmAIWElDyDzETFWKgSxIZq+D3C1AKs5/2wK4C0OY8gPbDOOs1OtJt6v2zFn/E8stJgwi7mEMrG0xiwwv0eoFHKoFbiVOHql5XVcQNyQbdQCC8WcZBuqV7xN9pkrYp13Sj2q2PUXbEcrwzp2iNgdMi4I8IUMjbcr13LO42dvtIvsZUKbiAzmxciYgXMGTrB6OHf7MM+gUIUkvA5HOybbInmqgNyBsq/zlhwojcZNvq7y3bYjoVKTkVqtFtBZUM1L3gFDY/4mn5ctmjJGp571RNaW/32ZE0RR9RjZbZTV6I4WzyR8evA+ub8Br3obgL0jblkVhKRDzV9r0v/tzD4kLiO9lsGGmAO7eK3CaL4G3hW8G9NJrvt/2xx8A1Es/x6/equ7szvfgXkTdSraekw0NjpAeJ5jYkQc0Wsni+2Ng39eBRpco8nHiPvMxJCtzi1a6RSyx9y5tEjRR7Gti1GszBViA8PlmOlOAB8OiBtl/YW4V4owEOOoGi4z9brNzZ8FLQAMslD+RJlD0i99RDLo37RbuK2jP5ECSjS4Do6XVycSDks7cAABDYPj59cvgN8DzJ4TWffMJ4ScIDpoAAAMAAAMACHkAAACpQZoibEN//oywAAAapF7iZvOqzykMRgARsV6M2tXM5GjEO8AA0uhUkrJpMpxylHhjc9nrQcTMb1BaQWB55No9c+0j7Y/C2+TaO9FZCqzFnL9aC5EbI+ElJvOpUyFD+xju7dMyfKhkVTciX++xq2vWVSTnHSDY/6RnN4FJ4DjsyeWqRGVa9yz6lDHWx750zx/yt4S/RQxzNoQcjS9eLxKpWwIrmgy2sznN8AAAADQBnkF5Cf8AAA16IMjHx0tKzA1bzbCHnDUOgvTgGee5JboacmZQ6gUAzQAAAwAAHrdThAl5AAABHkGaRTwhkymEN//+jLAAAEYlUIGfHoAEZFSstPX2PTZJflOUKDxFtUpGXxeTq7kn7Yl2dP8r5LWXM3KaSAPJoe9FlxnKUXGf3eGl2iGslhbv+eBBErvnYvFZ7t4tEEd4ocMROmcFHVDaqnQm8uCxkMujAh1mIx28u06zjlkmaQWN+He9g4T3P/tuaz4I2aWei4pxPnfOSlwLvEuEDRwvf8kfp9+2Cy16USpR+yMDBCCK1sLj9A/bM3EaSGmXYYR/0AX435gh1SD9+LacHxFEnTk/FyD8Ax09U4LjRhNmt1PuXFuDHWrOLGomPnlHMyYCakAr9GFDtXnCKoWURwCaTUCZEYti8HsnnTbol0wKgwRCO/8y0s1yAvj++FKoCsAAAAAtQZ5jalPCvwAAFruUkBItigHomKpZ3tff5Y7r35NAjhnApCsqjvULY0JGWOQdAAAALgGehGpCfwAAI7IrCCKPgAXDCHw53f/s8BDT2foo+xjzovKd0TnnTvrPtxbSu2cAAAD+QZqJSahBaJlMCG///oywAABGMNziqinnF/FQb7ABaZAUmQdu83IgkqNM9M/ARx2IUdGpuUXeg/hmPtADZ8yVmXJybTiPfusPFOvAB63T0uI25xfo5tVuwH3VxmdSYLmiyo3jhiPAdz3DmGi1WlejkxqUqO/Oe8UuQqFDvRsX7xv+oD8LFYijEDd/nBGIuKHwf9ZRv9o3V61jnIyt+S3pSKkQiy0/aBxb1L4d+FIlVdKRjU1kYua8Ha5ABcP96aSLFQmqIRnXajzDxpc45YUkxKlDQeY8cgLMfWa64XWiBWYDdoJIsYxlSjK9Fd9k8UcJKq6FkAHmuEJUHxwFjPkAAABlQZ6nRREsK/8AABaWP+KpT9eZwAAnGJRT4U6xBij6nHJaYPxympwevuIRLKeCgwo9/KX7h61lx9fXW8LbxkZeLe1ebWlEjmnGZZ8LuRQmUSR1wbF1Sf36yZSgK7ewGQJ+u9sviYEAAABHAZ7GdEJ/AAAjnsm0K0kpwpdjR5jJ/uGbJ4U2cCTgCjMcJ+cL2fHqXT64J6ARaN+kATFGp4f9KoANO4+OM7yP8Ob+ZelBObMAAABEAZ7IakJ/AAANgj6CyLoM8/OxM//sy1bOdkRJ9eMK5sSBzrxMUzTm22qb5wADvmp/G99/f1Azh/qk5dVCZfruGZlfTlQAAADsQZrNSahBbJlMCG///oywAABGAU8lKMfUmtACDYkpwUM88Wu/MqQjzPHtq/saAwSx789o/gCONB0vWgrizrqhDadGwRInf1dlZ3JEq6HR4EHps1cGS9YaeTRTBXoZHWwEnLe/Uo/FZFV3q4cCgWxcYcdtIzdCYjHVr8MOpcOhhJmMDV8zs8c81cxv2CxJrIrXt4ynQH/vMqOPc4LwCbcABQjFtjC905F+i8y5/0s0r+I4rvwK58JX3VHN1ecBCmbs5ZwpGdz3yFGpjW+IebtxxDD/UjGDayCpVvEm6jWVF+vb+CD/+j2c1ESh6UEAAABnQZ7rRRUsK/8AABa+YjFG0iLp1fyTtRyv5dGrHgXfGR+UnncYI3XS4coGOUZGDm9SQLWYcgvgFQLigkN9WHvawJpe92g/ESR95T9b9wALY6w7pmjEl22iK66+P89a7FO6qQWgyIshvwAAAF0Bnwp0Qn8AACPAuUj6ACv6d8l/TR+HpKQEkLrKse2/ntxeATDouqTHThVnCxBmDJqOpX+R79E5ihtmN/iub6q7fnGkoBG4V0A7qg5gxc0MFg8ZfHkudgZFGisuSYAAAABQAZ8MakJ/AAAjrldDEAIxJtWmXh+oAeocziZtoBK7erGhIDXX1HjavFsf7aXItCrQca2Ruk6UIlNHPYwunwi72kcGSyUuFpqPXRSHkF2GdMEAAADYQZsRSahBbJlMCG///oywAABGND82FYAvtf2i8qgiClH4AMIZWtHG34XUKDU8NW7eivX1N4RSm1Wtf7nP8leAPK1uUN/XPsvkRb+0ePxfseMde//1HxgFk7YSExQV7f3IECahKPWP3u9yPA5GBNeNVaQ8EN3+aYd5ZKDOFECgCV+Ghn6N7XNrdnf6+KKrrao3yiBX6RsushJSv1uv5ijzxdjdumk9YcaXECwAjS2BHzlmgSianMn562oxm+YpTcrZK3C9jzwNdPxmgMBFNVQi7aP7lMQCQ7ZfAAAAaUGfL0UVLCv/AAAWu19v2JdoSUQsuT0TXEl/T1e7iRQBEoibPmHbD4+6vtpXOk1h+1fXTv1mSwPIWAddS87yFhaQKUGGRL2kwB8JKKNW1m4vlQKG3GBo5J8g3stRa27FyYElHqT/2bBiwQAAAEkBn050Qn8AACPAuB/Oy5QdG5OvJtMJ6Yw7eyAmfGvf9B73IaGSawd75vz1ky9r4yT1yPJGp8wePPJnMpghhmLXknCUfMj7KVl4AAAAdQGfUGpCfwAAI0rN4R4JdsdzwvwpgAtAH/NbqXYDugrtFdkmr69ShJG0XDolVVJdAKHYyMf56C4sgdGmgCSfmeYnz10lA6diFte2/i7P2CDOjvBxZGalH6JyDOa/pVMdETXaVA+mhZX7szTj869kGTIt3LPLwAAAAKZBm1VJqEFsmUwIb//+jLAAAEYlwTU6YWTXCeughQAXQTSDphBTfcaJ1vAy4NOnGL/vBj8TJAe2ESFFDDAV4mtlRfADls5kFg/ilfTlRc2ZJ+s3mcQRtnNB8uJniKuWFS1mRcdCqSRsGVHickKI9zGYzKctJvdcI4mpl+Hdg1I0+PseCVxx8pXFyvr/GgFqlundkzmyVEWV3HO86WeyzemgvI0ThDfFAAAAM0Gfc0UVLCv/AAAWvEPPvl2jXDbMpBkkeSXZWyCWQM2H6RLQ3v6HJ5DfRvii/Sl3CfYwIAAAAB8Bn5J0Qn8AAAUcW3hnLHSRYcL9yMGTO2swJuxcKgICAAAAIwGflGpCfwAAI78ELFyZ3EbYdx5++bbtWiJcp1re9dZFpodNAAAAbUGbmUmoQWyZTAhv//6MsAAAGoA3BNqnbACzYsGIMFSJIkOazsoU+hFELcfePROXcP9a/muElYX8qVi2MOQYWn6UZPEx23awxygIVjliO8ylY57MhoJjcRF1Cb48Raz7szNgeybWi86Ec3B/ekAAAAA1QZ+3RRUsK/8AABbAmz92a1r+c0ZwlA6qKe6GU3o2hqvmsdgBNLDZYU26FRygVXkOFHZY9IEAAAAhAZ/WdEJ/AAAjwxd1990nFUJ0Z5ofQHeOxJadmVq4VuG9AAAAHQGf2GpCfwAAI78HZJ7Jk6z+anZsV4/W/Ys8cEkkAAABEUGb3UmoQWyZTAhv//6MsAAARgD1KSIAD90hecBumWEzx0HAokXwMKoP6hFccNGEzNRk8m7EVCSh1iHNBmOiCvzGLAmXNvtcGGMODZCyucXBPGAyclzbUEU9olEMcDloiMl2P86z4nfq/xaeyFg81pe9YdlJaxXZ/4oHNjX0G2gr866MJ3wQuZ029vV6Olx5PdLsxvmdhCh1zUg6fQLJQ+WCJfEtN1n6pr35cDxwsv7GkuKb+PYwPGEI0/Fk+HbpsB5w+4fibEuX3pUvBgiTCF1oMKlOdYR+L3RYpxDSVxbNQ/6ztk4YYEm5YzdiU9pCs+BpYar7+7yOKz2TqQXtp5c1kjqk7KD9CuSYtWdNP7LUcQAAAE1Bn/tFFSwr/wAAFqpXtQlLMNy4IedvoXh3ZU8G1vyrktsYXjZURcEpos76c2uRo0mev74DoxJtzEshbvvPhNpfQN9u/aZhsJ8b2dzitgAAADMBnhp0Qn8AACOSr1mN+U6KbsPbx+bGmo3ZkqpUdivbW3ZlT6gnTP/am1Wpu0vdN0rdbYEAAABFAZ4cakJ/AAAjhAEhd7T2cCsu2o7I4b817rf1uaXVzV2bMOQNWf5TXzKsvB1g6JH58YMQJpNeeG+UCsspvb5Ml4fsNdPhAAAAuUGaAUmoQWyZTAhv//6MsAAARjEdcadmRnAEQMOP7TXxPFK3OMWP5LKoGjp200PpO/NU5P9ly7etqNg73z5z8/khNUL/5PDgWJ0LmAdsUWrSZ+OEiUtwl86pI2rp8UPMyhxX9P/+oWDkcXRMYA4yuacsWZM+kbn41gqDYZLbOziivrnxty/EXwsGKUpwJ+It+XCXfevvIMQqCigFbs6k1213fxeiWja2Sz60ErQPEa7zig9c1EBkr1CNAAAAe0GeP0UVLCv/AAAWbheTtRo7hWWZE6KEbPoC1sGen/6+7k0pXfmSxbbL8alBXvUq+gS5h2GAlG7AhN87j3+DxgYp0aiH2XxLfzuu8Pv5Kn5uWjYxGqfDKt7uvIATb97NivwJejrr2WfrMffee32Ny7+er5JV/mxTEjhMwAAAAF4Bnl50Qn8AACTC3JmNmgAtcfRXURmn66qxKSnpjTVcTsfEZM7MvCLLhzpM4kf3OtMDNd1tJiPrIZz45N3qFzvpLi3AzOzeXOlpXNg2BnTnyXAchGpEl25C8+IpakfBAAAATgGeQGpCfwAAIzt+DSxt9KfQxT6et9ztjAkezJQdlatuGn40+a28Ws/gfn8mVuoZJphooAP2RvnXzKK7PPvJx7DhlmXlr4z5kS5nXo/jZgAAAQdBmkRJqEFsmUwIb//+jLAAAEYUSc99AERr02kcc1R6f1Rhbc8J3cNyn/jSS6iv0imX5GbvD3HO+Wd0EQvUmQruI+Mh0/NGdLj+97xVwwpzIMIRvj/byRaJxUqnT6w14o6U3Pj8DiTnOiiGj6v1DlK2V4+YPn6EifCknTmqFZmExZM899Vk43YSOe4BMfmPyiXryzsFgsI/lT4eHQ1RzXQ7pZlgkhyuyeYnlsRkzLIueEczzFtfANaGP9rnd6mJa80ImgXrolX1Q03fo1rIdII+WfjW6HE5m4IGtZSb2gsw/ui1j8K5ztGPUxnf11z1o0lNNR7IDssdnqWFaOKqjKPVfhMrp/VLOQAAAEpBnmJFFSwr/wAAF0UTwIUchhL1T8tuWqs0LUteG5S8whSnNzSzjBSvw2HUXM04aAC+ugjMOZd34FklytCEcEN9fdX4Pj7MOABxwAAAACUBnoNqQn8AACK/HTVv2M/Le1bZQHX3iNnHMMG8mNYPwqqE1ALbAAAAxEGaiEmoQWyZTAhn//44QAABDTileaABw91OCSssJ41k/guHkc/AEW2P+6pNCSnZDT4CVM94W4EP9PdkNXwAmvEqimlzIOuUm1CxBZqmCB2qYIZId//ZYvb4l+U29kLTUPomIUiSnBUbmaH5kL+N9i/7MkO29FbVbNmg0i+kNsEfQdrPCqAblF6cJfbgnUEOPI1rJYPyX0jEiQ0tNopKTpjszgskTpKhg4xmQs1+j/2C0Idr+rKeer/J47jyOcq5hw0F9FUAAABLQZ6mRRUsK/8AABbIn4AiGz3fRPRxgOshc6myhFrTFWPXM2QbdmKHYU0FMz22xHFdKIFO6m3T2UBA9IHjIGV3SGi9aC224tepNHUrAAAAPgGexXRCfwAAIqnQHHUONv5/KqOntzeqU2F0xbQXSe7GJqJbS2AE4Z9JIf/w5n1fCjtlNcjTgM9E46xkH7X/AAAAOQGex2pCfwAAI6WD7R7230ypF4mzLxdxpRUHD40LE0g3iwmIeszfpbQzBuTfwWxGgVWsHjGlAfPB8AAAAL1BmsxJqEFsmUwIX//98QAAAwKfuHsRLc1gAONL0Pgej9o1ACn1S75/ulbwYMzZbdVoL15pS6E9lQyQWiTs24KcxvAuIaP06hLbxLPPwfFm0x4kWXP8MbfiLtmU7soATpCVu4p9FOhLUx+f33CY1DmNh32ZQ0OOypNgTDVaGtZA9OOz0Zlu6/8l32T/ZH9T8YwXw5EwA5b9gzDuqnc/1thykkobAYazw+cOpC5sbiwvukQLiQ2o8/AqQTxwn0YAAABuQZ7qRRUsK/8AABa+YRUYzjwgARgEpAD5LfBmoxvMJpMq/c+mNh05g4bBfP/eMO8JdSwoMAg70APUnXrs7Smy/AXkxc1Q4tNCfpNBQpZBqt9e4F0svS0ZjGQ8HKt7hSGilTIECl8Jd23tUBsDLKEAAABOAZ8JdEJ/AAAjqc9UzmxIzyGQ4IYpruxfH/tL2D+0ixV8bHtMlAGygi7A3/KgAmPOo4QstaHMHZ0B4lJYNdcHRuNyG8ZIIB0T5wOibKN+AAAAXAGfC2pCfwAAI65JKFe5IARHs3NWUHVZmIcP832vyFZssO4YJBj1rjyy9gBm8vjqw739c7WF+Y49qxtQl5RM/O5VKckiIFYfIVInyaXsCju2njKaazAO6rb3zVabAAAAiUGbD0moQWyZTAhP//yEAAAP75QxQ+FgloYjiNglHQwLRhx3vO+LWoAASoJ+CZgzgqBZvy/o/3Uk1/kop04auj7iUGuiwVQnb92F0wbu68hK8cIUgfBfTVLI43Vn9wolUgrnkJg27+U94J+1xDKzaFzadXQG0suDDuHPc3A0P5i3Xg/3EiirCmbBAAAAbEGfLUUVLCv/AAAWuQ1bVeANgL4WKhfFtSWfhdt7yiY4DLK72BuCWOK6BFTAXK+sKE1IdnuUMIBDtTFBsJ9MLq2E+PGJlht25hgucg8TgBMnSWUIR+dXRvY73r+MX5nvDOJJp2AHSrIKLzAUkQAAAFUBn05qQn8AACOx53PEWnL0MMBlM3ycvq83GZ1tRLEhv92ylIZ3pssBU6XT34wmF3XUE08T4HeQKleQ53eyp0ufWRfANPtUYa8x+HRUthq/kXZ2bkkZAAAFOW1vb3YAAABsbXZoZAAAAAAAAAAAAAAAAAAAA+gAAAZAAAEAAAEAAAAAAAAAAAAAAAABAAAAAAAAAAAAAAAAAAAAAQAAAAAAAAAAAAAAAAAAQAAAAAAAAAAAAAAAAAAAAAAAAAAAAAAAAAAAAAAAAAIAAARjdHJhawAAAFx0a2hkAAAAAwAAAAAAAAAAAAAAAQAAAAAAAAZAAAAAAAAAAAAAAAAAAAAAAAABAAAAAAAAAAAAAAAAAAAAAQAAAAAAAAAAAAAAAAAAQAAAAAJgAAABkAAAAAAAJGVkdHMAAAAcZWxzdAAAAAAAAAABAAAGQAAABAAAAQAAAAAD221kaWEAAAAgbWRoZAAAAAAAAAAAAAAAAAAAPAAAAGAAVcQAAAAAAC1oZGxyAAAAAAAAAAB2aWRlAAAAAAAAAAAAAAAAVmlkZW9IYW5kbGVyAAAAA4ZtaW5mAAAAFHZtaGQAAAABAAAAAAAAAAAAAAAkZGluZgAAABxkcmVmAAAAAAAAAAEAAAAMdXJsIAAAAAEAAANGc3RibAAAAJZzdHNkAAAAAAAAAAEAAACGYXZjMQAAAAAAAAABAAAAAAAAAAAAAAAAAAAAAAJgAZAASAAAAEgAAAAAAAAAAQAAAAAAAAAAAAAAAAAAAAAAAAAAAAAAAAAAAAAAAAAAABj//wAAADBhdmNDAWQAHv/hABhnZAAerNlAmDOhAAADAAEAAAMAPA8WLZYBAAVo6+csiwAAABhzdHRzAAAAAAAAAAEAAAAwAAACAAAAABRzdHNzAAAAAAAAAAEAAAABAAABeGN0dHMAAAAAAAAALQAAAAEAAAQAAAAAAQAABgAAAAABAAACAAAAAAEAAAgAAAAAAgAAAgAAAAABAAAKAAAAAAEAAAQAAAAAAQAAAAAAAAABAAACAAAAAAEAAAoAAAAAAQAABAAAAAABAAAAAAAAAAEAAAIAAAAAAQAACgAAAAABAAAEAAAAAAEAAAAAAAAAAQAAAgAAAAABAAAKAAAAAAEAAAQAAAAAAQAAAAAAAAABAAACAAAAAAEAAAoAAAAAAQAABAAAAAABAAAAAAAAAAEAAAIAAAAAAQAACgAAAAABAAAEAAAAAAEAAAAAAAAAAQAAAgAAAAABAAAKAAAAAAEAAAQAAAAAAQAAAAAAAAABAAACAAAAAAEAAAgAAAAAAgAAAgAAAAABAAAKAAAAAAEAAAQAAAAAAQAAAAAAAAABAAACAAAAAAEAAAoAAAAAAQAABAAAAAABAAAAAAAAAAEAAAIAAAAAAQAACAAAAAACAAACAAAAABxzdHNjAAAAAAAAAAEAAAABAAAAMAAAAAEAAADUc3RzegAAAAAAAAAAAAAAMAAABKwAAACtAAAAOAAAASIAAAAxAAAAMgAAAQIAAABpAAAASwAAAEgAAADwAAAAawAAAGEAAABUAAAA3AAAAG0AAABNAAAAeQAAAKoAAAA3AAAAIwAAACcAAABxAAAAOQAAACUAAAAhAAABFQAAAFEAAAA3AAAASQAAAL0AAAB/AAAAYgAAAFIAAAELAAAATgAAACkAAADIAAAATwAAAEIAAAA9AAAAwQAAAHIAAABSAAAAYAAAAI0AAABwAAAAWQAAABRzdGNvAAAAAAAAAAEAAAAwAAAAYnVkdGEAAABabWV0YQAAAAAAAAAhaGRscgAAAAAAAAAAbWRpcmFwcGwAAAAAAAAAAAAAAAAtaWxzdAAAACWpdG9vAAAAHWRhdGEAAAABAAAAAExhdmY1Ny44My4xMDA=\" type=\"video/mp4\">\n",
       "  Your browser does not support the video tag.\n",
       "  </video>"
      ],
      "text/plain": [
       "<IPython.core.display.HTML object>"
      ]
     },
     "execution_count": 113,
     "metadata": {
      "tags": []
     },
     "output_type": "execute_result"
    }
   ],
   "source": [
    "create_policy_eval_video(random_policy, \"random-agent\")"
   ]
  },
  {
   "cell_type": "code",
   "execution_count": null,
   "metadata": {
    "id": "EM6S09fN8_uR"
   },
   "outputs": [],
   "source": []
  }
 ],
 "metadata": {
  "colab": {
   "collapsed_sections": [],
   "name": "TF-Agents-CartPole.ipynb",
   "provenance": []
  },
  "kernelspec": {
   "display_name": "Python 3",
   "language": "python",
   "name": "python3"
  },
  "language_info": {
   "codemirror_mode": {
    "name": "ipython",
    "version": 3
   },
   "file_extension": ".py",
   "mimetype": "text/x-python",
   "name": "python",
   "nbconvert_exporter": "python",
   "pygments_lexer": "ipython3",
   "version": "3.7.1"
  },
  "pycharm": {
   "stem_cell": {
    "cell_type": "raw",
    "metadata": {
     "collapsed": false
    },
    "source": []
   }
  }
 },
 "nbformat": 4,
 "nbformat_minor": 1
}
